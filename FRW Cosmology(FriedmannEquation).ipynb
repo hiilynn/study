{
 "cells": [
  {
   "cell_type": "markdown",
   "metadata": {
    "collapsed": true,
    "slideshow": {
     "slide_type": "slide"
    }
   },
   "source": [
    "<h1 style=\"text-align:center\">FRW Cosmology</h1>\n",
    "<p style=\"text-align:right\"><b>Yeji Park</b>\n",
    "\n",
    "-----\n"
   ]
  },
  {
   "cell_type": "markdown",
   "metadata": {
    "collapsed": true,
    "slideshow": {
     "slide_type": "slide"
    }
   },
   "source": [
    "## Manifold\n"
   ]
  },
  {
   "cell_type": "code",
   "execution_count": 2,
   "metadata": {
    "slideshow": {
     "slide_type": "skip"
    }
   },
   "outputs": [],
   "source": [
    "%display latex"
   ]
  },
  {
   "cell_type": "code",
   "execution_count": 3,
   "metadata": {
    "slideshow": {
     "slide_type": "subslide"
    }
   },
   "outputs": [
    {
     "data": {
      "text/html": [
       "<html><script type=\"math/tex; mode=display\">\\newcommand{\\Bold}[1]{\\mathbf{#1}}\\left(\\mathcal{M},(t, r, {\\theta}, {\\phi})\\right)</script></html>"
      ],
      "text/plain": [
       "Chart (M, (t, r, th, ph))"
      ]
     },
     "metadata": {},
     "output_type": "display_data"
    }
   ],
   "source": [
    "# Declare manifold\n",
    "M = Manifold(4, 'M', '\\mathcal{M}')\n",
    "\n",
    "# Define chart & range\n",
    "fr.<t,r,th,ph> = M.chart(r't r:[0,+oo) th:[0,pi]:\\theta ph:[0,2*pi):\\phi')\n",
    "\n",
    "show(fr)"
   ]
  },
  {
   "cell_type": "markdown",
   "metadata": {
    "slideshow": {
     "slide_type": "slide"
    }
   },
   "source": [
    "## Metric\n",
    "FRW metric\n",
    "\n",
    "$$g_{ab} = dt^2 - a(t)^2 \\left[ \\frac{dr^2}{1-Kr^2} + r^2(d\\theta^2  + \\sin^2(\\theta)d\\phi^2)\\right]$$"
   ]
  },
  {
   "cell_type": "code",
   "execution_count": 4,
   "metadata": {
    "slideshow": {
     "slide_type": "subslide"
    }
   },
   "outputs": [
    {
     "name": "stdout",
     "output_type": "stream",
     "text": [
      "Lorentzian metric g on the 4-dimensional differentiable manifold M\n"
     ]
    },
    {
     "data": {
      "text/html": [
       "<html><script type=\"math/tex; mode=display\">\\newcommand{\\Bold}[1]{\\mathbf{#1}}g = \\mathrm{d} t\\otimes \\mathrm{d} t + \\left( \\frac{a\\left(t\\right)^{2}}{K r^{2} - 1} \\right) \\mathrm{d} r\\otimes \\mathrm{d} r -r^{2} a\\left(t\\right)^{2} \\mathrm{d} {\\theta}\\otimes \\mathrm{d} {\\theta} -r^{2} a\\left(t\\right)^{2} \\sin\\left({\\theta}\\right)^{2} \\mathrm{d} {\\phi}\\otimes \\mathrm{d} {\\phi}</script></html>"
      ],
      "text/plain": [
       "g = dt*dt + a(t)^2/(K*r^2 - 1) dr*dr - r^2*a(t)^2 dth*dth - r^2*a(t)^2*sin(th)^2 dph*dph"
      ]
     },
     "metadata": {},
     "output_type": "display_data"
    },
    {
     "data": {
      "text/html": [
       "<html><script type=\"math/tex; mode=display\">\\newcommand{\\Bold}[1]{\\mathbf{#1}}\\left(\\begin{array}{rrrr}\n",
       "1 & 0 & 0 & 0 \\\\\n",
       "0 & \\frac{a\\left(t\\right)^{2}}{K r^{2} - 1} & 0 & 0 \\\\\n",
       "0 & 0 & -r^{2} a\\left(t\\right)^{2} & 0 \\\\\n",
       "0 & 0 & 0 & -r^{2} a\\left(t\\right)^{2} \\sin\\left({\\theta}\\right)^{2}\n",
       "\\end{array}\\right)</script></html>"
      ],
      "text/plain": [
       "[                    1                     0                     0                     0]\n",
       "[                    0    a(t)^2/(K*r^2 - 1)                     0                     0]\n",
       "[                    0                     0           -r^2*a(t)^2                     0]\n",
       "[                    0                     0                     0 -r^2*a(t)^2*sin(th)^2]"
      ]
     },
     "metadata": {},
     "output_type": "display_data"
    }
   ],
   "source": [
    "# Declare Variables\n",
    "var('Lambda K G', domain='real')\n",
    "a = M.scalar_field(function('a')(t), name='a')\n",
    "\n",
    "# Define Metric\n",
    "g = M.lorentzian_metric('g')\n",
    "g[0,0] = 1\n",
    "g[1,1] = -a^2/(1-K*r^2)\n",
    "g[2,2] = -a^2*r^2\n",
    "g[3,3] = -a^2*r^2*sin(th)^2\n",
    "\n",
    "print(g)\n",
    "show(g.display())\n",
    "show(g[:])"
   ]
  },
  {
   "cell_type": "markdown",
   "metadata": {},
   "source": [
    "## Connection\n",
    "$$\\nabla g = 0$$"
   ]
  },
  {
   "cell_type": "code",
   "execution_count": 5,
   "metadata": {},
   "outputs": [
    {
     "data": {
      "text/html": [
       "<html><script type=\"math/tex; mode=display\">\\newcommand{\\Bold}[1]{\\mathbf{#1}}\\begin{array}{lcl} \\Gamma_{ \\phantom{\\, t} \\, r \\, r }^{ \\, t \\phantom{\\, r} \\phantom{\\, r} } & = & -\\frac{a\\left(t\\right) \\frac{\\partial\\,a}{\\partial t}}{K r^{2} - 1} \\\\ \\Gamma_{ \\phantom{\\, t} \\, {\\theta} \\, {\\theta} }^{ \\, t \\phantom{\\, {\\theta}} \\phantom{\\, {\\theta}} } & = & r^{2} a\\left(t\\right) \\frac{\\partial\\,a}{\\partial t} \\\\ \\Gamma_{ \\phantom{\\, t} \\, {\\phi} \\, {\\phi} }^{ \\, t \\phantom{\\, {\\phi}} \\phantom{\\, {\\phi}} } & = & r^{2} a\\left(t\\right) \\sin\\left({\\theta}\\right)^{2} \\frac{\\partial\\,a}{\\partial t} \\\\ \\Gamma_{ \\phantom{\\, r} \\, t \\, r }^{ \\, r \\phantom{\\, t} \\phantom{\\, r} } & = & \\frac{\\frac{\\partial\\,a}{\\partial t}}{a\\left(t\\right)} \\\\ \\Gamma_{ \\phantom{\\, r} \\, r \\, r }^{ \\, r \\phantom{\\, r} \\phantom{\\, r} } & = & -\\frac{K r}{K r^{2} - 1} \\\\ \\Gamma_{ \\phantom{\\, r} \\, {\\theta} \\, {\\theta} }^{ \\, r \\phantom{\\, {\\theta}} \\phantom{\\, {\\theta}} } & = & K r^{3} - r \\\\ \\Gamma_{ \\phantom{\\, r} \\, {\\phi} \\, {\\phi} }^{ \\, r \\phantom{\\, {\\phi}} \\phantom{\\, {\\phi}} } & = & {\\left(K r^{3} - r\\right)} \\sin\\left({\\theta}\\right)^{2} \\\\ \\Gamma_{ \\phantom{\\, {\\theta}} \\, t \\, {\\theta} }^{ \\, {\\theta} \\phantom{\\, t} \\phantom{\\, {\\theta}} } & = & \\frac{\\frac{\\partial\\,a}{\\partial t}}{a\\left(t\\right)} \\\\ \\Gamma_{ \\phantom{\\, {\\theta}} \\, r \\, {\\theta} }^{ \\, {\\theta} \\phantom{\\, r} \\phantom{\\, {\\theta}} } & = & \\frac{1}{r} \\\\ \\Gamma_{ \\phantom{\\, {\\theta}} \\, {\\phi} \\, {\\phi} }^{ \\, {\\theta} \\phantom{\\, {\\phi}} \\phantom{\\, {\\phi}} } & = & -\\cos\\left({\\theta}\\right) \\sin\\left({\\theta}\\right) \\\\ \\Gamma_{ \\phantom{\\, {\\phi}} \\, t \\, {\\phi} }^{ \\, {\\phi} \\phantom{\\, t} \\phantom{\\, {\\phi}} } & = & \\frac{\\frac{\\partial\\,a}{\\partial t}}{a\\left(t\\right)} \\\\ \\Gamma_{ \\phantom{\\, {\\phi}} \\, r \\, {\\phi} }^{ \\, {\\phi} \\phantom{\\, r} \\phantom{\\, {\\phi}} } & = & \\frac{1}{r} \\\\ \\Gamma_{ \\phantom{\\, {\\phi}} \\, {\\theta} \\, {\\phi} }^{ \\, {\\phi} \\phantom{\\, {\\theta}} \\phantom{\\, {\\phi}} } & = & \\frac{\\cos\\left({\\theta}\\right)}{\\sin\\left({\\theta}\\right)} \\end{array}</script></html>"
      ],
      "text/plain": [
       "Gam^t_r,r = -a(t)*d(a)/dt/(K*r^2 - 1) \n",
       "Gam^t_th,th = r^2*a(t)*d(a)/dt \n",
       "Gam^t_ph,ph = r^2*a(t)*sin(th)^2*d(a)/dt \n",
       "Gam^r_t,r = d(a)/dt/a(t) \n",
       "Gam^r_r,r = -K*r/(K*r^2 - 1) \n",
       "Gam^r_th,th = K*r^3 - r \n",
       "Gam^r_ph,ph = (K*r^3 - r)*sin(th)^2 \n",
       "Gam^th_t,th = d(a)/dt/a(t) \n",
       "Gam^th_r,th = 1/r \n",
       "Gam^th_ph,ph = -cos(th)*sin(th) \n",
       "Gam^ph_t,ph = d(a)/dt/a(t) \n",
       "Gam^ph_r,ph = 1/r \n",
       "Gam^ph_th,ph = cos(th)/sin(th) "
      ]
     },
     "metadata": {},
     "output_type": "display_data"
    }
   ],
   "source": [
    "nab = g.connection()\n",
    "show(nab.display(only_nonredundant=true))"
   ]
  },
  {
   "cell_type": "markdown",
   "metadata": {},
   "source": [
    "## Curvature\n",
    "$$R_{ab} = {R^c}_{acb}$$\n",
    "$$R = g^{ab}R_{ab}$$\n",
    "$$G_{ab} = R_{ab} - \\frac{1}{2}Rg_{ab}$$"
   ]
  },
  {
   "cell_type": "code",
   "execution_count": 6,
   "metadata": {
    "scrolled": true
   },
   "outputs": [
    {
     "name": "stdout",
     "output_type": "stream",
     "text": [
      "Field of symmetric bilinear forms Ric(g) on the 4-dimensional differentiable manifold M\n"
     ]
    },
    {
     "data": {
      "text/html": [
       "<html><script type=\"math/tex; mode=display\">\\newcommand{\\Bold}[1]{\\mathbf{#1}}\\mathrm{Ric}\\left(g\\right) = -\\frac{3 \\, \\frac{\\partial^2\\,a}{\\partial t ^ 2}}{a\\left(t\\right)} \\mathrm{d} t\\otimes \\mathrm{d} t + \\left( -\\frac{2 \\, \\left(\\frac{\\partial\\,a}{\\partial t}\\right)^{2} + a\\left(t\\right) \\frac{\\partial^2\\,a}{\\partial t ^ 2} + 2 \\, K}{K r^{2} - 1} \\right) \\mathrm{d} r\\otimes \\mathrm{d} r + \\left( 2 \\, r^{2} \\left(\\frac{\\partial\\,a}{\\partial t}\\right)^{2} + r^{2} a\\left(t\\right) \\frac{\\partial^2\\,a}{\\partial t ^ 2} + 2 \\, K r^{2} \\right) \\mathrm{d} {\\theta}\\otimes \\mathrm{d} {\\theta} + {\\left(2 \\, r^{2} \\left(\\frac{\\partial\\,a}{\\partial t}\\right)^{2} + r^{2} a\\left(t\\right) \\frac{\\partial^2\\,a}{\\partial t ^ 2} + 2 \\, K r^{2}\\right)} \\sin\\left({\\theta}\\right)^{2} \\mathrm{d} {\\phi}\\otimes \\mathrm{d} {\\phi}</script></html>"
      ],
      "text/plain": [
       "Ric(g) = -3*d^2(a)/dt^2/a(t) dt*dt - (2*(d(a)/dt)^2 + a(t)*d^2(a)/dt^2 + 2*K)/(K*r^2 - 1) dr*dr + (2*r^2*(d(a)/dt)^2 + r^2*a(t)*d^2(a)/dt^2 + 2*K*r^2) dth*dth + (2*r^2*(d(a)/dt)^2 + r^2*a(t)*d^2(a)/dt^2 + 2*K*r^2)*sin(th)^2 dph*dph"
      ]
     },
     "metadata": {},
     "output_type": "display_data"
    },
    {
     "data": {
      "text/html": [
       "<html><script type=\"math/tex; mode=display\">\\newcommand{\\Bold}[1]{\\mathbf{#1}}\\left(\\begin{array}{rrrr}\n",
       "-\\frac{3 \\, \\frac{\\partial^2\\,a}{\\partial t ^ 2}}{a\\left(t\\right)} & 0 & 0 & 0 \\\\\n",
       "0 & -\\frac{2 \\, \\left(\\frac{\\partial\\,a}{\\partial t}\\right)^{2} + a\\left(t\\right) \\frac{\\partial^2\\,a}{\\partial t ^ 2} + 2 \\, K}{K r^{2} - 1} & 0 & 0 \\\\\n",
       "0 & 0 & 2 \\, r^{2} \\left(\\frac{\\partial\\,a}{\\partial t}\\right)^{2} + r^{2} a\\left(t\\right) \\frac{\\partial^2\\,a}{\\partial t ^ 2} + 2 \\, K r^{2} & 0 \\\\\n",
       "0 & 0 & 0 & {\\left(2 \\, r^{2} \\left(\\frac{\\partial\\,a}{\\partial t}\\right)^{2} + r^{2} a\\left(t\\right) \\frac{\\partial^2\\,a}{\\partial t ^ 2} + 2 \\, K r^{2}\\right)} \\sin\\left({\\theta}\\right)^{2}\n",
       "\\end{array}\\right)</script></html>"
      ],
      "text/plain": [
       "[                                           -3*d^2(a)/dt^2/a(t)                                                              0                                                              0                                                              0]\n",
       "[                                                             0          -(2*(d(a)/dt)^2 + a(t)*d^2(a)/dt^2 + 2*K)/(K*r^2 - 1)                                                              0                                                              0]\n",
       "[                                                             0                                                              0             2*r^2*(d(a)/dt)^2 + r^2*a(t)*d^2(a)/dt^2 + 2*K*r^2                                                              0]\n",
       "[                                                             0                                                              0                                                              0 (2*r^2*(d(a)/dt)^2 + r^2*a(t)*d^2(a)/dt^2 + 2*K*r^2)*sin(th)^2]"
      ]
     },
     "metadata": {},
     "output_type": "display_data"
    }
   ],
   "source": [
    "Ric = nab.ricci()\n",
    "print(Ric)\n",
    "show(Ric.display())\n",
    "show(Ric[:])"
   ]
  },
  {
   "cell_type": "code",
   "execution_count": 7,
   "metadata": {},
   "outputs": [
    {
     "name": "stdout",
     "output_type": "stream",
     "text": [
      "Scalar field on the 4-dimensional differentiable manifold M\n"
     ]
    },
    {
     "data": {
      "text/html": [
       "<html><script type=\"math/tex; mode=display\">\\newcommand{\\Bold}[1]{\\mathbf{#1}}\\begin{array}{llcl} & \\mathcal{M} & \\longrightarrow & \\mathbb{R} \\\\ & \\left(t, r, {\\theta}, {\\phi}\\right) & \\longmapsto & -\\frac{6 \\, {\\left(\\left(\\frac{\\partial\\,a}{\\partial t}\\right)^{2} + a\\left(t\\right) \\frac{\\partial^2\\,a}{\\partial t ^ 2} + K\\right)}}{a\\left(t\\right)^{2}} \\end{array}</script></html>"
      ],
      "text/plain": [
       "M --> R\n",
       "(t, r, th, ph) |--> -6*((d(a)/dt)^2 + a(t)*d^2(a)/dt^2 + K)/a(t)^2"
      ]
     },
     "metadata": {},
     "output_type": "display_data"
    }
   ],
   "source": [
    "R = g.inverse()['^ab']*Ric['_ab']\n",
    "print(R)\n",
    "show(R.display())"
   ]
  },
  {
   "cell_type": "code",
   "execution_count": 8,
   "metadata": {},
   "outputs": [
    {
     "data": {
      "text/html": [
       "<html><script type=\"math/tex; mode=display\">\\newcommand{\\Bold}[1]{\\mathbf{#1}}G_{ab} = \\frac{3 \\, {\\left(\\left(\\frac{\\partial\\,a}{\\partial t}\\right)^{2} + K\\right)}}{a\\left(t\\right)^{2}} \\mathrm{d} t\\otimes \\mathrm{d} t + \\left( \\frac{\\left(\\frac{\\partial\\,a}{\\partial t}\\right)^{2} + 2 \\, a\\left(t\\right) \\frac{\\partial^2\\,a}{\\partial t ^ 2} + K}{K r^{2} - 1} \\right) \\mathrm{d} r\\otimes \\mathrm{d} r + \\left( -r^{2} \\left(\\frac{\\partial\\,a}{\\partial t}\\right)^{2} - 2 \\, r^{2} a\\left(t\\right) \\frac{\\partial^2\\,a}{\\partial t ^ 2} - K r^{2} \\right) \\mathrm{d} {\\theta}\\otimes \\mathrm{d} {\\theta} -{\\left(r^{2} \\left(\\frac{\\partial\\,a}{\\partial t}\\right)^{2} + 2 \\, r^{2} a\\left(t\\right) \\frac{\\partial^2\\,a}{\\partial t ^ 2} + K r^{2}\\right)} \\sin\\left({\\theta}\\right)^{2} \\mathrm{d} {\\phi}\\otimes \\mathrm{d} {\\phi}</script></html>"
      ],
      "text/plain": [
       "G_{ab} = 3*((d(a)/dt)^2 + K)/a(t)^2 dt*dt + ((d(a)/dt)^2 + 2*a(t)*d^2(a)/dt^2 + K)/(K*r^2 - 1) dr*dr + (-r^2*(d(a)/dt)^2 - 2*r^2*a(t)*d^2(a)/dt^2 - K*r^2) dth*dth - (r^2*(d(a)/dt)^2 + 2*r^2*a(t)*d^2(a)/dt^2 + K*r^2)*sin(th)^2 dph*dph"
      ]
     },
     "metadata": {},
     "output_type": "display_data"
    },
    {
     "data": {
      "text/html": [
       "<html><script type=\"math/tex; mode=display\">\\newcommand{\\Bold}[1]{\\mathbf{#1}}\\left(\\begin{array}{rrrr}\n",
       "\\frac{3 \\, {\\left(\\left(\\frac{\\partial\\,a}{\\partial t}\\right)^{2} + K\\right)}}{a\\left(t\\right)^{2}} & 0 & 0 & 0 \\\\\n",
       "0 & \\frac{\\left(\\frac{\\partial\\,a}{\\partial t}\\right)^{2} + 2 \\, a\\left(t\\right) \\frac{\\partial^2\\,a}{\\partial t ^ 2} + K}{K r^{2} - 1} & 0 & 0 \\\\\n",
       "0 & 0 & -r^{2} \\left(\\frac{\\partial\\,a}{\\partial t}\\right)^{2} - 2 \\, r^{2} a\\left(t\\right) \\frac{\\partial^2\\,a}{\\partial t ^ 2} - K r^{2} & 0 \\\\\n",
       "0 & 0 & 0 & -{\\left(r^{2} \\left(\\frac{\\partial\\,a}{\\partial t}\\right)^{2} + 2 \\, r^{2} a\\left(t\\right) \\frac{\\partial^2\\,a}{\\partial t ^ 2} + K r^{2}\\right)} \\sin\\left({\\theta}\\right)^{2}\n",
       "\\end{array}\\right)</script></html>"
      ],
      "text/plain": [
       "[                                   3*((d(a)/dt)^2 + K)/a(t)^2                                                             0                                                             0                                                             0]\n",
       "[                                                            0            ((d(a)/dt)^2 + 2*a(t)*d^2(a)/dt^2 + K)/(K*r^2 - 1)                                                             0                                                             0]\n",
       "[                                                            0                                                             0             -r^2*(d(a)/dt)^2 - 2*r^2*a(t)*d^2(a)/dt^2 - K*r^2                                                             0]\n",
       "[                                                            0                                                             0                                                             0 -(r^2*(d(a)/dt)^2 + 2*r^2*a(t)*d^2(a)/dt^2 + K*r^2)*sin(th)^2]"
      ]
     },
     "metadata": {},
     "output_type": "display_data"
    }
   ],
   "source": [
    "Gab = Ric - 1/2*R*g\n",
    "Gab.set_name(r'G_{ab}')\n",
    "show(Gab.display())\n",
    "show(Gab[:])"
   ]
  },
  {
   "cell_type": "markdown",
   "metadata": {},
   "source": [
    "## Energy-Momentum Tensor\n",
    "\n",
    "$$T_{ab} = (\\rho + P)u_a u_b - Pg_{ab}$$"
   ]
  },
  {
   "cell_type": "code",
   "execution_count": 16,
   "metadata": {},
   "outputs": [
    {
     "data": {
      "text/html": [
       "<html><script type=\"math/tex; mode=display\">\\newcommand{\\Bold}[1]{\\mathbf{#1}}u^a = \\frac{\\partial}{\\partial t }</script></html>"
      ],
      "text/plain": [
       "u = d/dt"
      ]
     },
     "metadata": {},
     "output_type": "display_data"
    },
    {
     "data": {
      "text/html": [
       "<html><script type=\"math/tex; mode=display\">\\newcommand{\\Bold}[1]{\\mathbf{#1}}u_a = \\mathrm{d} t</script></html>"
      ],
      "text/plain": [
       "u_a = dt"
      ]
     },
     "metadata": {},
     "output_type": "display_data"
    },
    {
     "data": {
      "text/html": [
       "<html><script type=\"math/tex; mode=display\">\\newcommand{\\Bold}[1]{\\mathbf{#1}}T_{ab} = \\rho\\left(t\\right) \\mathrm{d} t\\otimes \\mathrm{d} t + \\left( -\\frac{P\\left(t\\right) a\\left(t\\right)^{2}}{K r^{2} - 1} \\right) \\mathrm{d} r\\otimes \\mathrm{d} r + r^{2} P\\left(t\\right) a\\left(t\\right)^{2} \\mathrm{d} {\\theta}\\otimes \\mathrm{d} {\\theta} + r^{2} P\\left(t\\right) a\\left(t\\right)^{2} \\sin\\left({\\theta}\\right)^{2} \\mathrm{d} {\\phi}\\otimes \\mathrm{d} {\\phi}</script></html>"
      ],
      "text/plain": [
       "T_{ab} = rho(t) dt*dt - P(t)*a(t)^2/(K*r^2 - 1) dr*dr + r^2*P(t)*a(t)^2 dth*dth + r^2*P(t)*a(t)^2*sin(th)^2 dph*dph"
      ]
     },
     "metadata": {},
     "output_type": "display_data"
    },
    {
     "data": {
      "text/html": [
       "<html><script type=\"math/tex; mode=display\">\\newcommand{\\Bold}[1]{\\mathbf{#1}}\\left(\\begin{array}{rrrr}\n",
       "\\rho\\left(t\\right) & 0 & 0 & 0 \\\\\n",
       "0 & -\\frac{P\\left(t\\right) a\\left(t\\right)^{2}}{K r^{2} - 1} & 0 & 0 \\\\\n",
       "0 & 0 & r^{2} P\\left(t\\right) a\\left(t\\right)^{2} & 0 \\\\\n",
       "0 & 0 & 0 & r^{2} P\\left(t\\right) a\\left(t\\right)^{2} \\sin\\left({\\theta}\\right)^{2}\n",
       "\\end{array}\\right)</script></html>"
      ],
      "text/plain": [
       "[                   rho(t)                         0                         0                         0]\n",
       "[                        0  -P(t)*a(t)^2/(K*r^2 - 1)                         0                         0]\n",
       "[                        0                         0           r^2*P(t)*a(t)^2                         0]\n",
       "[                        0                         0                         0 r^2*P(t)*a(t)^2*sin(th)^2]"
      ]
     },
     "metadata": {},
     "output_type": "display_data"
    }
   ],
   "source": [
    "# Declare scala fields\n",
    "rho = M.scalar_field(function('rho')(t), name='rho', latex_name=r'\\rho')\n",
    "P = M.scalar_field(function('P')(t), name='P')\n",
    "\n",
    "# Declare Vector Fields\n",
    "u = M.vector_field('u', latex_name=r'u^a')\n",
    "u[0] = 1\n",
    "show(u.display())\n",
    "\n",
    "# Vector to Covector (1-form)\n",
    "u_form = u.down(g)\n",
    "u_form.set_name(r'u_a')\n",
    "show(u_form.display())\n",
    "\n",
    "# Define energy momentum tensor\n",
    "T = (rho + P)*u_form*u_form - P*g\n",
    "T.set_name(r'T_{ab}')\n",
    "show(T.display())\n",
    "show(T[:])"
   ]
  },
  {
   "cell_type": "code",
   "execution_count": 17,
   "metadata": {},
   "outputs": [
    {
     "data": {
      "text/html": [
       "<html><script type=\"math/tex; mode=display\">\\newcommand{\\Bold}[1]{\\mathbf{#1}}{T^a}_b = \\rho\\left(t\\right) \\frac{\\partial}{\\partial t }\\otimes \\mathrm{d} t -P\\left(t\\right) \\frac{\\partial}{\\partial r }\\otimes \\mathrm{d} r -P\\left(t\\right) \\frac{\\partial}{\\partial {\\theta} }\\otimes \\mathrm{d} {\\theta} -P\\left(t\\right) \\frac{\\partial}{\\partial {\\phi} }\\otimes \\mathrm{d} {\\phi}</script></html>"
      ],
      "text/plain": [
       "{T^a}_b = rho(t) d/dt*dt - P(t) d/dr*dr - P(t) d/dth*dth - P(t) d/dph*dph"
      ]
     },
     "metadata": {},
     "output_type": "display_data"
    },
    {
     "data": {
      "text/html": [
       "<html><script type=\"math/tex; mode=display\">\\newcommand{\\Bold}[1]{\\mathbf{#1}}\\left(\\begin{array}{rrrr}\n",
       "\\rho\\left(t\\right) & 0 & 0 & 0 \\\\\n",
       "0 & -P\\left(t\\right) & 0 & 0 \\\\\n",
       "0 & 0 & -P\\left(t\\right) & 0 \\\\\n",
       "0 & 0 & 0 & -P\\left(t\\right)\n",
       "\\end{array}\\right)</script></html>"
      ],
      "text/plain": [
       "[rho(t)      0      0      0]\n",
       "[     0  -P(t)      0      0]\n",
       "[     0      0  -P(t)      0]\n",
       "[     0      0      0  -P(t)]"
      ]
     },
     "metadata": {},
     "output_type": "display_data"
    }
   ],
   "source": [
    "Tmix = g.inverse()['^ab']*T['_bc']\n",
    "Tmix.set_name(r'{T^a}_b')\n",
    "show(Tmix.display())\n",
    "show(Tmix[:])"
   ]
  },
  {
   "cell_type": "code",
   "execution_count": 19,
   "metadata": {},
   "outputs": [
    {
     "name": "stdout",
     "output_type": "stream",
     "text": [
      "Energy-Momentum Conserved:\n",
      "\n"
     ]
    },
    {
     "data": {
      "text/html": [
       "<html><script type=\"math/tex; mode=display\">\\newcommand{\\Bold}[1]{\\mathbf{#1}}\\frac{3 \\, P\\left(t\\right) \\frac{\\partial}{\\partial t}a\\left(t\\right)}{a\\left(t\\right)} + \\frac{3 \\, \\rho\\left(t\\right) \\frac{\\partial}{\\partial t}a\\left(t\\right)}{a\\left(t\\right)} + \\frac{\\partial}{\\partial t}\\rho\\left(t\\right) = 0</script></html>"
      ],
      "text/plain": [
       "3*P(t)*diff(a(t), t)/a(t) + 3*rho(t)*diff(a(t), t)/a(t) + diff(rho(t), t) == 0"
      ]
     },
     "metadata": {},
     "output_type": "display_data"
    },
    {
     "name": "stdout",
     "output_type": "stream",
     "text": [
      "3*P(t)*diff(a(t), t)/a(t) + 3*rho(t)*diff(a(t), t)/a(t) + diff(rho(t), t) == 0\n"
     ]
    }
   ],
   "source": [
    "# Covariant Derivative of T\n",
    "DTmix = nab(Tmix)\n",
    "DTmix.set_name(r'\\nabla T')\n",
    "\n",
    "# Contract = Energy-Momentum Conserved\n",
    "CT = DTmix['^a_ba']\n",
    "print(\"Energy-Momentum Conserved:\\n\")\n",
    "show(CT[0].expr().expand() == 0)\n",
    "print(CT[0].expr().expand()==0)"
   ]
  },
  {
   "cell_type": "markdown",
   "metadata": {},
   "source": [
    "## Einstein Equation \n",
    "$$G_{ab} - \\Lambda g_{ab} = 8\\pi G T_{ab}$$"
   ]
  },
  {
   "cell_type": "markdown",
   "metadata": {},
   "source": [
    "## Friedmann equation and Continuity equation\n",
    "\\begin{gather}\n",
    "\\dot{\\rho} + 3H(\\rho + P) = 0 \\\\\n",
    "H^2 = \\frac{8\\pi G\\rho}{3} - \\frac{K}{a^2} \n",
    "\\end{gather}"
   ]
  },
  {
   "cell_type": "code",
   "execution_count": 20,
   "metadata": {},
   "outputs": [],
   "source": [
    "reset()"
   ]
  },
  {
   "cell_type": "code",
   "execution_count": 21,
   "metadata": {},
   "outputs": [],
   "source": [
    "M = Manifold(4, 'M')\n",
    "fr.<t,r,th,ph> = M.chart(r't r:[0,+oo) th:[0,pi]:\\theta ph:[0,2*pi):\\phi')\n",
    "\n",
    "var('K, G')\n",
    "a = function('a')(t)\n",
    "rho = function('rho')(t)\n",
    "p = function('p')(t)\n",
    "H = function('H')(t)"
   ]
  },
  {
   "cell_type": "code",
   "execution_count": 28,
   "metadata": {},
   "outputs": [
    {
     "data": {
      "text/html": [
       "<html><script type=\"math/tex; mode=display\">\\newcommand{\\Bold}[1]{\\mathbf{#1}}-8 \\, \\pi G \\rho\\left(t\\right) + \\frac{3 \\, \\frac{\\partial}{\\partial t}a\\left(t\\right)^{2}}{a\\left(t\\right)^{2}} + \\frac{3 \\, K}{a\\left(t\\right)^{2}} = 0</script></html>"
      ],
      "text/plain": [
       "-8*pi*G*rho(t) + 3*diff(a(t), t)^2/a(t)^2 + 3*K/a(t)^2 == 0"
      ]
     },
     "metadata": {},
     "output_type": "display_data"
    }
   ],
   "source": [
    "EE = -8*pi*G*rho + 3*diff(a)^2/a^2 + 3*K/a^2 == 0\n",
    "show(EE)"
   ]
  },
  {
   "cell_type": "code",
   "execution_count": 29,
   "metadata": {},
   "outputs": [
    {
     "name": "stdout",
     "output_type": "stream",
     "text": [
      "Friedmann euqation is:\n"
     ]
    },
    {
     "data": {
      "text/html": [
       "<html><script type=\"math/tex; mode=display\">\\newcommand{\\Bold}[1]{\\mathbf{#1}}H\\left(t\\right)^{2} = \\frac{8}{3} \\, \\pi G \\rho\\left(t\\right) - \\frac{K}{a\\left(t\\right)^{2}}</script></html>"
      ],
      "text/plain": [
       "H(t)^2 == 8/3*pi*G*rho(t) - K/a(t)^2"
      ]
     },
     "metadata": {},
     "output_type": "display_data"
    }
   ],
   "source": [
    "EE = EE.subs(diff(a)==H*a)\n",
    "Fried = solve(EE, H^2)[0].expand()\n",
    "print(\"Friedmann euqation is:\")\n",
    "show(Fried)"
   ]
  },
  {
   "cell_type": "code",
   "execution_count": null,
   "metadata": {},
   "outputs": [],
   "source": []
  }
 ],
 "metadata": {
  "kernelspec": {
   "display_name": "SageMath 8.4",
   "language": "",
   "name": "sagemath"
  },
  "language_info": {
   "codemirror_mode": {
    "name": "ipython",
    "version": 2
   },
   "file_extension": ".py",
   "mimetype": "text/x-python",
   "name": "python",
   "nbconvert_exporter": "python",
   "pygments_lexer": "ipython2",
   "version": "2.7.15"
  }
 },
 "nbformat": 4,
 "nbformat_minor": 2
}
